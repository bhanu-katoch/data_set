{
  "nbformat": 4,
  "nbformat_minor": 0,
  "metadata": {
    "colab": {
      "provenance": [],
      "include_colab_link": true
    },
    "kernelspec": {
      "name": "python3",
      "display_name": "Python 3"
    },
    "language_info": {
      "name": "python"
    }
  },
  "cells": [
    {
      "cell_type": "markdown",
      "metadata": {
        "id": "view-in-github",
        "colab_type": "text"
      },
      "source": [
        "<a href=\"https://colab.research.google.com/github/bhanu-katoch/data_set/blob/main/DS1.ipynb\" target=\"_parent\"><img src=\"https://colab.research.google.com/assets/colab-badge.svg\" alt=\"Open In Colab\"/></a>"
      ]
    },
    {
      "cell_type": "code",
      "execution_count": null,
      "metadata": {
        "id": "Ko9PMJua4JSV"
      },
      "outputs": [],
      "source": [
        "#WEB SCRAPING - SCRAPING/EXTRACTING of data from the web\n",
        "#BeautifulSoup for Web Scraping\n",
        "#Now here we will extract data from Amazon Customer Review Page"
      ]
    },
    {
      "cell_type": "code",
      "source": [
        "#url : https://www.amazon.in/Apple-iPhone-14-512GB-Blue/product-reviews/B0BDJH3V3Q/ref=cm_cr_dp_d_show_all_btm?ie=UTF8&reviewerType=all_reviews"
      ],
      "metadata": {
        "id": "gOLuY7iu6OpS"
      },
      "execution_count": null,
      "outputs": []
    },
    {
      "cell_type": "code",
      "source": [
        "import requests #importing the requests library\n",
        "from bs4 import BeautifulSoup as bs \n",
        "#bs4 is a package , BeautifulSoup is library"
      ],
      "metadata": {
        "id": "GfZ5Xj9C7xV2"
      },
      "execution_count": null,
      "outputs": []
    },
    {
      "cell_type": "code",
      "source": [
        "url = 'https://www.amazon.in/Apple-iPhone-14-512GB-Blue/product-reviews/B0BDJH3V3Q/ref=cm_cr_dp_d_show_all_btm?ie=UTF8&reviewerType=all_reviews'\n",
        "page = requests.get(url) #we are extracting this url and loading the data of amazon webpage\n",
        "page\n",
        "#<Response [200]> is okayy ,but <Response [503]> is an error .Try re running the cell for 5-6times\n",
        "#Even after that if error exists,check for correct url"
      ],
      "metadata": {
        "colab": {
          "base_uri": "https://localhost:8080/"
        },
        "id": "ciGDJjiX8dbR",
        "outputId": "e931ffd5-825f-4e58-f129-0bc52d3f631d"
      },
      "execution_count": null,
      "outputs": [
        {
          "output_type": "execute_result",
          "data": {
            "text/plain": [
              "<Response [200]>"
            ]
          },
          "metadata": {},
          "execution_count": 4
        }
      ]
    },
    {
      "cell_type": "code",
      "source": [
        "page.content"
      ],
      "metadata": {
        "id": "Zb68inxX86cx"
      },
      "execution_count": null,
      "outputs": []
    },
    {
      "cell_type": "code",
      "source": [
        "soup = bs(page.content,'html.parser') #I want page.content into html.parser format\n",
        "#html.parser format is a better readable format\n",
        "soup"
      ],
      "metadata": {
        "id": "JNyMj3fh9WUR"
      },
      "execution_count": null,
      "outputs": []
    },
    {
      "cell_type": "code",
      "source": [
        "#NEVER EVER CONSIDER TOP POSITIVE and TOP CRITICAL REVIEW\n"
      ],
      "metadata": {
        "id": "k55wGWyz-Do7"
      },
      "execution_count": null,
      "outputs": []
    },
    {
      "cell_type": "code",
      "source": [
        "#Let us just extract the Customer Names\n",
        "names = soup.find_all('span',class_ = 'a-profile-name')[2:]\n",
        "names"
      ],
      "metadata": {
        "colab": {
          "base_uri": "https://localhost:8080/"
        },
        "id": "e12Ro0X6-Xqg",
        "outputId": "b747f716-a9a2-4c5a-d9ae-334b17ee2165"
      },
      "execution_count": null,
      "outputs": [
        {
          "output_type": "execute_result",
          "data": {
            "text/plain": [
              "[<span class=\"a-profile-name\">Prasanna</span>,\n",
              " <span class=\"a-profile-name\">LALITKUMARBHARDWAJAmazon Customer</span>,\n",
              " <span class=\"a-profile-name\">amatraveler<span class=\"a-icon a-profile-verified-badge\"><span class=\"a-profile-verified-text\"></span></span></span>,\n",
              " <span class=\"a-profile-name\">Mohd Aadil<span class=\"a-icon a-profile-verified-badge\"><span class=\"a-profile-verified-text\"></span></span></span>,\n",
              " <span class=\"a-profile-name\">rajpal yadav</span>,\n",
              " <span class=\"a-profile-name\">Anand Kumar Singh</span>,\n",
              " <span class=\"a-profile-name\">Harinder</span>,\n",
              " <span class=\"a-profile-name\">Sriharsha</span>,\n",
              " <span class=\"a-profile-name\">Sridhar B.</span>,\n",
              " <span class=\"a-profile-name\">Jay</span>]"
            ]
          },
          "metadata": {},
          "execution_count": 10
        }
      ]
    },
    {
      "cell_type": "code",
      "source": [
        "len(names)"
      ],
      "metadata": {
        "colab": {
          "base_uri": "https://localhost:8080/"
        },
        "id": "qBMaTFMr_yse",
        "outputId": "633b7919-324a-46ce-ce33-a6451e0e0b86"
      },
      "execution_count": null,
      "outputs": [
        {
          "output_type": "execute_result",
          "data": {
            "text/plain": [
              "10"
            ]
          },
          "metadata": {},
          "execution_count": 11
        }
      ]
    },
    {
      "cell_type": "code",
      "source": [
        "#Now let us just create a dataframe and add a column Customer name and give in names list data\n",
        "import pandas as pd\n",
        "df = pd.DataFrame(names,columns = {'Customer Name'})\n",
        "df"
      ],
      "metadata": {
        "colab": {
          "base_uri": "https://localhost:8080/",
          "height": 419
        },
        "id": "hPOOGsTYAhvJ",
        "outputId": "0377e9ff-c8c5-4c4a-f184-e309d8e9efff"
      },
      "execution_count": null,
      "outputs": [
        {
          "output_type": "stream",
          "name": "stderr",
          "text": [
            "/usr/local/lib/python3.7/dist-packages/pandas/core/internals/construction.py:540: VisibleDeprecationWarning: Creating an ndarray from ragged nested sequences (which is a list-or-tuple of lists-or-tuples-or ndarrays with different lengths or shapes) is deprecated. If you meant to do this, you must specify 'dtype=object' when creating the ndarray.\n",
            "  values = np.array([convert(v) for v in values])\n"
          ]
        },
        {
          "output_type": "execute_result",
          "data": {
            "text/plain": [
              "                         Customer Name\n",
              "0                           [Prasanna]\n",
              "1  [LALITKUMARBHARDWAJAmazon Customer]\n",
              "2                  [amatraveler, [[]]]\n",
              "3                   [Mohd Aadil, [[]]]\n",
              "4                       [rajpal yadav]\n",
              "5                  [Anand Kumar Singh]\n",
              "6                           [Harinder]\n",
              "7                          [Sriharsha]\n",
              "8                         [Sridhar B.]\n",
              "9                                [Jay]"
            ],
            "text/html": [
              "\n",
              "  <div id=\"df-c934da08-0b54-4bca-8bfd-9f1d129b9ce7\">\n",
              "    <div class=\"colab-df-container\">\n",
              "      <div>\n",
              "<style scoped>\n",
              "    .dataframe tbody tr th:only-of-type {\n",
              "        vertical-align: middle;\n",
              "    }\n",
              "\n",
              "    .dataframe tbody tr th {\n",
              "        vertical-align: top;\n",
              "    }\n",
              "\n",
              "    .dataframe thead th {\n",
              "        text-align: right;\n",
              "    }\n",
              "</style>\n",
              "<table border=\"1\" class=\"dataframe\">\n",
              "  <thead>\n",
              "    <tr style=\"text-align: right;\">\n",
              "      <th></th>\n",
              "      <th>Customer Name</th>\n",
              "    </tr>\n",
              "  </thead>\n",
              "  <tbody>\n",
              "    <tr>\n",
              "      <th>0</th>\n",
              "      <td>[Prasanna]</td>\n",
              "    </tr>\n",
              "    <tr>\n",
              "      <th>1</th>\n",
              "      <td>[LALITKUMARBHARDWAJAmazon Customer]</td>\n",
              "    </tr>\n",
              "    <tr>\n",
              "      <th>2</th>\n",
              "      <td>[amatraveler, [[]]]</td>\n",
              "    </tr>\n",
              "    <tr>\n",
              "      <th>3</th>\n",
              "      <td>[Mohd Aadil, [[]]]</td>\n",
              "    </tr>\n",
              "    <tr>\n",
              "      <th>4</th>\n",
              "      <td>[rajpal yadav]</td>\n",
              "    </tr>\n",
              "    <tr>\n",
              "      <th>5</th>\n",
              "      <td>[Anand Kumar Singh]</td>\n",
              "    </tr>\n",
              "    <tr>\n",
              "      <th>6</th>\n",
              "      <td>[Harinder]</td>\n",
              "    </tr>\n",
              "    <tr>\n",
              "      <th>7</th>\n",
              "      <td>[Sriharsha]</td>\n",
              "    </tr>\n",
              "    <tr>\n",
              "      <th>8</th>\n",
              "      <td>[Sridhar B.]</td>\n",
              "    </tr>\n",
              "    <tr>\n",
              "      <th>9</th>\n",
              "      <td>[Jay]</td>\n",
              "    </tr>\n",
              "  </tbody>\n",
              "</table>\n",
              "</div>\n",
              "      <button class=\"colab-df-convert\" onclick=\"convertToInteractive('df-c934da08-0b54-4bca-8bfd-9f1d129b9ce7')\"\n",
              "              title=\"Convert this dataframe to an interactive table.\"\n",
              "              style=\"display:none;\">\n",
              "        \n",
              "  <svg xmlns=\"http://www.w3.org/2000/svg\" height=\"24px\"viewBox=\"0 0 24 24\"\n",
              "       width=\"24px\">\n",
              "    <path d=\"M0 0h24v24H0V0z\" fill=\"none\"/>\n",
              "    <path d=\"M18.56 5.44l.94 2.06.94-2.06 2.06-.94-2.06-.94-.94-2.06-.94 2.06-2.06.94zm-11 1L8.5 8.5l.94-2.06 2.06-.94-2.06-.94L8.5 2.5l-.94 2.06-2.06.94zm10 10l.94 2.06.94-2.06 2.06-.94-2.06-.94-.94-2.06-.94 2.06-2.06.94z\"/><path d=\"M17.41 7.96l-1.37-1.37c-.4-.4-.92-.59-1.43-.59-.52 0-1.04.2-1.43.59L10.3 9.45l-7.72 7.72c-.78.78-.78 2.05 0 2.83L4 21.41c.39.39.9.59 1.41.59.51 0 1.02-.2 1.41-.59l7.78-7.78 2.81-2.81c.8-.78.8-2.07 0-2.86zM5.41 20L4 18.59l7.72-7.72 1.47 1.35L5.41 20z\"/>\n",
              "  </svg>\n",
              "      </button>\n",
              "      \n",
              "  <style>\n",
              "    .colab-df-container {\n",
              "      display:flex;\n",
              "      flex-wrap:wrap;\n",
              "      gap: 12px;\n",
              "    }\n",
              "\n",
              "    .colab-df-convert {\n",
              "      background-color: #E8F0FE;\n",
              "      border: none;\n",
              "      border-radius: 50%;\n",
              "      cursor: pointer;\n",
              "      display: none;\n",
              "      fill: #1967D2;\n",
              "      height: 32px;\n",
              "      padding: 0 0 0 0;\n",
              "      width: 32px;\n",
              "    }\n",
              "\n",
              "    .colab-df-convert:hover {\n",
              "      background-color: #E2EBFA;\n",
              "      box-shadow: 0px 1px 2px rgba(60, 64, 67, 0.3), 0px 1px 3px 1px rgba(60, 64, 67, 0.15);\n",
              "      fill: #174EA6;\n",
              "    }\n",
              "\n",
              "    [theme=dark] .colab-df-convert {\n",
              "      background-color: #3B4455;\n",
              "      fill: #D2E3FC;\n",
              "    }\n",
              "\n",
              "    [theme=dark] .colab-df-convert:hover {\n",
              "      background-color: #434B5C;\n",
              "      box-shadow: 0px 1px 3px 1px rgba(0, 0, 0, 0.15);\n",
              "      filter: drop-shadow(0px 1px 2px rgba(0, 0, 0, 0.3));\n",
              "      fill: #FFFFFF;\n",
              "    }\n",
              "  </style>\n",
              "\n",
              "      <script>\n",
              "        const buttonEl =\n",
              "          document.querySelector('#df-c934da08-0b54-4bca-8bfd-9f1d129b9ce7 button.colab-df-convert');\n",
              "        buttonEl.style.display =\n",
              "          google.colab.kernel.accessAllowed ? 'block' : 'none';\n",
              "\n",
              "        async function convertToInteractive(key) {\n",
              "          const element = document.querySelector('#df-c934da08-0b54-4bca-8bfd-9f1d129b9ce7');\n",
              "          const dataTable =\n",
              "            await google.colab.kernel.invokeFunction('convertToInteractive',\n",
              "                                                     [key], {});\n",
              "          if (!dataTable) return;\n",
              "\n",
              "          const docLinkHtml = 'Like what you see? Visit the ' +\n",
              "            '<a target=\"_blank\" href=https://colab.research.google.com/notebooks/data_table.ipynb>data table notebook</a>'\n",
              "            + ' to learn more about interactive tables.';\n",
              "          element.innerHTML = '';\n",
              "          dataTable['output_type'] = 'display_data';\n",
              "          await google.colab.output.renderOutput(dataTable, element);\n",
              "          const docLink = document.createElement('div');\n",
              "          docLink.innerHTML = docLinkHtml;\n",
              "          element.appendChild(docLink);\n",
              "        }\n",
              "      </script>\n",
              "    </div>\n",
              "  </div>\n",
              "  "
            ]
          },
          "metadata": {},
          "execution_count": 12
        }
      ]
    },
    {
      "cell_type": "code",
      "source": [
        "#Next is Review Title\n",
        "r_title = soup.find_all('a',class_ = 'review-title')\n",
        "r_title"
      ],
      "metadata": {
        "colab": {
          "base_uri": "https://localhost:8080/"
        },
        "id": "x8EnqXxTA700",
        "outputId": "da12f700-f7c2-4435-ed40-a524b29cd9da"
      },
      "execution_count": null,
      "outputs": [
        {
          "output_type": "execute_result",
          "data": {
            "text/plain": [
              "[<a class=\"a-size-base a-link-normal review-title a-color-base review-title-content a-text-bold\" data-hook=\"review-title\" href=\"/gp/customer-reviews/R3QN7WHCT1NEQA?ASIN=B0BDJH3V3Q\">\n",
              " <span>Exceeding my expectation. Go for it.</span>\n",
              " </a>,\n",
              " <a class=\"a-size-base a-link-normal review-title a-color-base review-title-content a-text-bold\" data-hook=\"review-title\" href=\"/gp/customer-reviews/RKCKA25ZAOSMI?ASIN=B0BDJH3V3Q\">\n",
              " <span>I love iPhone</span>\n",
              " </a>,\n",
              " <a class=\"a-size-base a-link-normal review-title a-color-base review-title-content a-text-bold\" data-hook=\"review-title\" href=\"/gp/customer-reviews/R3F7MY168QWDF7?ASIN=B0BDJH3V3Q\">\n",
              " <span>Product match the descriptions.</span>\n",
              " </a>,\n",
              " <a class=\"a-size-base a-link-normal review-title a-color-base review-title-content a-text-bold\" data-hook=\"review-title\" href=\"/gp/customer-reviews/R3HRYRF02522UY?ASIN=B0BDJH3V3Q\">\n",
              " <span>Better to have 13 pro than 14</span>\n",
              " </a>,\n",
              " <a class=\"a-size-base a-link-normal review-title a-color-base review-title-content a-text-bold\" data-hook=\"review-title\" href=\"/gp/customer-reviews/R3UXZI3NPWU8AG?ASIN=B0BDJH3V3Q\">\n",
              " <span>Very bad colour and Amazon not change colour one purchase after</span>\n",
              " </a>,\n",
              " <a class=\"a-size-base a-link-normal review-title a-color-base review-title-content a-text-bold\" data-hook=\"review-title\" href=\"/gp/customer-reviews/R2D1ET2XUGLKE7?ASIN=B0BDJH3V3Q\">\n",
              " <span>Definitely it’s worth it</span>\n",
              " </a>,\n",
              " <a class=\"a-size-base a-link-normal review-title a-color-base review-title-content a-text-bold\" data-hook=\"review-title\" href=\"/gp/customer-reviews/R4CGCJLFE97G6?ASIN=B0BDJH3V3Q\">\n",
              " <span>Dashing look... Purple 🟣 iPhone pro</span>\n",
              " </a>,\n",
              " <a class=\"a-size-base a-link-normal review-title a-color-base review-title-content a-text-bold\" data-hook=\"review-title\" href=\"/gp/customer-reviews/R2JONP8B0ETGF6?ASIN=B0BDJH3V3Q\">\n",
              " <span>it's worth it.</span>\n",
              " </a>,\n",
              " <a class=\"a-size-base a-link-normal review-title a-color-base review-title-content a-text-bold\" data-hook=\"review-title\" href=\"/gp/customer-reviews/R3TKCPQ8ESOY9?ASIN=B0BDJH3V3Q\">\n",
              " <span>Iphone 14</span>\n",
              " </a>,\n",
              " <a class=\"a-size-base a-link-normal review-title a-color-base review-title-content a-text-bold\" data-hook=\"review-title\" href=\"/gp/customer-reviews/RWRBDN8H7A4DD?ASIN=B0BDJH3V3Q\">\n",
              " <span>I is very good phone but all thing I a 13 mini</span>\n",
              " </a>]"
            ]
          },
          "metadata": {},
          "execution_count": 13
        }
      ]
    },
    {
      "cell_type": "code",
      "source": [
        "len(r_title)"
      ],
      "metadata": {
        "colab": {
          "base_uri": "https://localhost:8080/"
        },
        "id": "6wh_jVa6CTrg",
        "outputId": "3d743fb6-fbd0-4045-dbbc-8ce5c5ad8d52"
      },
      "execution_count": null,
      "outputs": [
        {
          "output_type": "execute_result",
          "data": {
            "text/plain": [
              "10"
            ]
          },
          "metadata": {},
          "execution_count": 14
        }
      ]
    },
    {
      "cell_type": "code",
      "source": [
        "#Data Filtering\n",
        "review_title = [] #empty list\n",
        "for i in range(0,len(r_title)):\n",
        "  review_title.append(r_title[i].get_text()[1:-1]) #excluding index no 0 and index no -1\n",
        "review_title"
      ],
      "metadata": {
        "colab": {
          "base_uri": "https://localhost:8080/"
        },
        "id": "oKhdKrH-CdvF",
        "outputId": "f84d5387-c0a7-4321-b68e-eb3420dc8bce"
      },
      "execution_count": null,
      "outputs": [
        {
          "output_type": "execute_result",
          "data": {
            "text/plain": [
              "['Exceeding my expectation. Go for it.',\n",
              " 'I love iPhone',\n",
              " 'Product match the descriptions.',\n",
              " 'Better to have 13 pro than 14',\n",
              " 'Very bad colour and Amazon not change colour one purchase after',\n",
              " 'Definitely it’s worth it',\n",
              " 'Dashing look... Purple \\U0001f7e3 iPhone pro',\n",
              " \"it's worth it.\",\n",
              " 'Iphone 14',\n",
              " 'I is very good phone but all thing I a 13 mini']"
            ]
          },
          "metadata": {},
          "execution_count": 16
        }
      ]
    },
    {
      "cell_type": "code",
      "source": [
        "#Next is review dates\n",
        "dates = soup.find_all('span',class_ = 'review-date')[2:]\n",
        "dates"
      ],
      "metadata": {
        "colab": {
          "base_uri": "https://localhost:8080/"
        },
        "id": "0_0usuREDMbz",
        "outputId": "6cb39850-e500-4f62-d2d7-8edc2e509b58"
      },
      "execution_count": null,
      "outputs": [
        {
          "output_type": "execute_result",
          "data": {
            "text/plain": [
              "[<span class=\"a-size-base a-color-secondary review-date\" data-hook=\"review-date\">Reviewed in India 🇮🇳 on 22 September 2022</span>,\n",
              " <span class=\"a-size-base a-color-secondary review-date\" data-hook=\"review-date\">Reviewed in India 🇮🇳 on 23 September 2022</span>,\n",
              " <span class=\"a-size-base a-color-secondary review-date\" data-hook=\"review-date\">Reviewed in India 🇮🇳 on 20 September 2022</span>,\n",
              " <span class=\"a-size-base a-color-secondary review-date\" data-hook=\"review-date\">Reviewed in India 🇮🇳 on 22 September 2022</span>,\n",
              " <span class=\"a-size-base a-color-secondary review-date\" data-hook=\"review-date\">Reviewed in India 🇮🇳 on 21 September 2022</span>,\n",
              " <span class=\"a-size-base a-color-secondary review-date\" data-hook=\"review-date\">Reviewed in India 🇮🇳 on 21 September 2022</span>,\n",
              " <span class=\"a-size-base a-color-secondary review-date\" data-hook=\"review-date\">Reviewed in India 🇮🇳 on 16 September 2022</span>,\n",
              " <span class=\"a-size-base a-color-secondary review-date\" data-hook=\"review-date\">Reviewed in India 🇮🇳 on 16 September 2022</span>,\n",
              " <span class=\"a-size-base a-color-secondary review-date\" data-hook=\"review-date\">Reviewed in India 🇮🇳 on 18 September 2022</span>,\n",
              " <span class=\"a-size-base a-color-secondary review-date\" data-hook=\"review-date\">Reviewed in India 🇮🇳 on 17 September 2022</span>]"
            ]
          },
          "metadata": {},
          "execution_count": 19
        }
      ]
    },
    {
      "cell_type": "code",
      "source": [
        "len(dates)"
      ],
      "metadata": {
        "colab": {
          "base_uri": "https://localhost:8080/"
        },
        "id": "7-yfm7xnEHmQ",
        "outputId": "4eaf786e-0b32-460c-f95c-77cc8d376e3f"
      },
      "execution_count": null,
      "outputs": [
        {
          "output_type": "execute_result",
          "data": {
            "text/plain": [
              "10"
            ]
          },
          "metadata": {},
          "execution_count": 20
        }
      ]
    },
    {
      "cell_type": "code",
      "source": [
        "#Data Filtering\n",
        "review_date = [] #empty list\n",
        "for i in range(0,len(dates)):\n",
        "  review_date.append(dates[i].get_text().replace('Reviewed in India 🇮🇳 on ',''))\n",
        "review_date"
      ],
      "metadata": {
        "colab": {
          "base_uri": "https://localhost:8080/"
        },
        "id": "doXPNbo6EMcC",
        "outputId": "9cefb4de-b0d5-4d45-fd11-1922bf822900"
      },
      "execution_count": null,
      "outputs": [
        {
          "output_type": "execute_result",
          "data": {
            "text/plain": [
              "['22 September 2022',\n",
              " '23 September 2022',\n",
              " '20 September 2022',\n",
              " '22 September 2022',\n",
              " '21 September 2022',\n",
              " '21 September 2022',\n",
              " '16 September 2022',\n",
              " '16 September 2022',\n",
              " '18 September 2022',\n",
              " '17 September 2022']"
            ]
          },
          "metadata": {},
          "execution_count": 22
        }
      ]
    },
    {
      "cell_type": "code",
      "source": [
        "#Next is Review Rating in Stars\n",
        "rating = soup.select('i.review-rating')[2:]\n",
        "rating"
      ],
      "metadata": {
        "colab": {
          "base_uri": "https://localhost:8080/"
        },
        "id": "r_W-ggdPE4h_",
        "outputId": "42d40b1c-d250-447b-e714-413a7ea99394"
      },
      "execution_count": null,
      "outputs": [
        {
          "output_type": "execute_result",
          "data": {
            "text/plain": [
              "[<i class=\"a-icon a-icon-star a-star-5 review-rating\" data-hook=\"review-star-rating\"><span class=\"a-icon-alt\">5.0 out of 5 stars</span></i>,\n",
              " <i class=\"a-icon a-icon-star a-star-5 review-rating\" data-hook=\"review-star-rating\"><span class=\"a-icon-alt\">5.0 out of 5 stars</span></i>,\n",
              " <i class=\"a-icon a-icon-star a-star-5 review-rating\" data-hook=\"review-star-rating\"><span class=\"a-icon-alt\">5.0 out of 5 stars</span></i>,\n",
              " <i class=\"a-icon a-icon-star a-star-3 review-rating\" data-hook=\"review-star-rating\"><span class=\"a-icon-alt\">3.0 out of 5 stars</span></i>,\n",
              " <i class=\"a-icon a-icon-star a-star-1 review-rating\" data-hook=\"review-star-rating\"><span class=\"a-icon-alt\">1.0 out of 5 stars</span></i>,\n",
              " <i class=\"a-icon a-icon-star a-star-5 review-rating\" data-hook=\"review-star-rating\"><span class=\"a-icon-alt\">5.0 out of 5 stars</span></i>,\n",
              " <i class=\"a-icon a-icon-star a-star-5 review-rating\" data-hook=\"review-star-rating\"><span class=\"a-icon-alt\">5.0 out of 5 stars</span></i>,\n",
              " <i class=\"a-icon a-icon-star a-star-5 review-rating\" data-hook=\"review-star-rating\"><span class=\"a-icon-alt\">5.0 out of 5 stars</span></i>,\n",
              " <i class=\"a-icon a-icon-star a-star-3 review-rating\" data-hook=\"review-star-rating\"><span class=\"a-icon-alt\">3.0 out of 5 stars</span></i>,\n",
              " <i class=\"a-icon a-icon-star a-star-5 review-rating\" data-hook=\"review-star-rating\"><span class=\"a-icon-alt\">5.0 out of 5 stars</span></i>]"
            ]
          },
          "metadata": {},
          "execution_count": 25
        }
      ]
    },
    {
      "cell_type": "code",
      "source": [
        "len(rating)"
      ],
      "metadata": {
        "colab": {
          "base_uri": "https://localhost:8080/"
        },
        "id": "IR-9lnqBGxZL",
        "outputId": "5c25ae60-471e-4975-f861-5064a9ccba2e"
      },
      "execution_count": null,
      "outputs": [
        {
          "output_type": "execute_result",
          "data": {
            "text/plain": [
              "10"
            ]
          },
          "metadata": {},
          "execution_count": 26
        }
      ]
    },
    {
      "cell_type": "code",
      "source": [
        "#Data Filtering\n",
        "review_rating = [] #empty list\n",
        "for i in range(0,len(rating)):\n",
        "  review_rating.append(rating[i].get_text())\n",
        "review_rating"
      ],
      "metadata": {
        "colab": {
          "base_uri": "https://localhost:8080/"
        },
        "id": "PX_Rz7sFG1US",
        "outputId": "afca39fe-2163-42a9-9abc-4213b1870e69"
      },
      "execution_count": null,
      "outputs": [
        {
          "output_type": "execute_result",
          "data": {
            "text/plain": [
              "['5.0 out of 5 stars',\n",
              " '5.0 out of 5 stars',\n",
              " '5.0 out of 5 stars',\n",
              " '3.0 out of 5 stars',\n",
              " '1.0 out of 5 stars',\n",
              " '5.0 out of 5 stars',\n",
              " '5.0 out of 5 stars',\n",
              " '5.0 out of 5 stars',\n",
              " '3.0 out of 5 stars',\n",
              " '5.0 out of 5 stars']"
            ]
          },
          "metadata": {},
          "execution_count": 27
        }
      ]
    },
    {
      "cell_type": "code",
      "source": [
        "#WE have extracted names and put it in df\n",
        "#We extracted review_title,review dates,review rating\n",
        "#Let us add review_title,review dates,review rating in df"
      ],
      "metadata": {
        "id": "ONZPOBw1HTPF"
      },
      "execution_count": null,
      "outputs": []
    },
    {
      "cell_type": "code",
      "source": [
        "df['Review Title'] = review_title\n",
        "df['Review Date'] = review_date\n",
        "df['Review Rating'] = review_rating\n",
        "df"
      ],
      "metadata": {
        "colab": {
          "base_uri": "https://localhost:8080/",
          "height": 598
        },
        "id": "stWlhAFKHuKn",
        "outputId": "958d8236-ea4b-46bf-8331-0e0fb4eef998"
      },
      "execution_count": null,
      "outputs": [
        {
          "output_type": "execute_result",
          "data": {
            "text/plain": [
              "                         Customer Name  \\\n",
              "0                           [Prasanna]   \n",
              "1  [LALITKUMARBHARDWAJAmazon Customer]   \n",
              "2                  [amatraveler, [[]]]   \n",
              "3                   [Mohd Aadil, [[]]]   \n",
              "4                       [rajpal yadav]   \n",
              "5                  [Anand Kumar Singh]   \n",
              "6                           [Harinder]   \n",
              "7                          [Sriharsha]   \n",
              "8                         [Sridhar B.]   \n",
              "9                                [Jay]   \n",
              "\n",
              "                                        Review Title        Review Date  \\\n",
              "0               Exceeding my expectation. Go for it.  22 September 2022   \n",
              "1                                      I love iPhone  23 September 2022   \n",
              "2                    Product match the descriptions.  20 September 2022   \n",
              "3                      Better to have 13 pro than 14  22 September 2022   \n",
              "4  Very bad colour and Amazon not change colour o...  21 September 2022   \n",
              "5                           Definitely it’s worth it  21 September 2022   \n",
              "6                Dashing look... Purple 🟣 iPhone pro  16 September 2022   \n",
              "7                                     it's worth it.  16 September 2022   \n",
              "8                                          Iphone 14  18 September 2022   \n",
              "9     I is very good phone but all thing I a 13 mini  17 September 2022   \n",
              "\n",
              "        Review Rating  \n",
              "0  5.0 out of 5 stars  \n",
              "1  5.0 out of 5 stars  \n",
              "2  5.0 out of 5 stars  \n",
              "3  3.0 out of 5 stars  \n",
              "4  1.0 out of 5 stars  \n",
              "5  5.0 out of 5 stars  \n",
              "6  5.0 out of 5 stars  \n",
              "7  5.0 out of 5 stars  \n",
              "8  3.0 out of 5 stars  \n",
              "9  5.0 out of 5 stars  "
            ],
            "text/html": [
              "\n",
              "  <div id=\"df-be7fcca9-e683-4e8b-ab6b-69330a93d3b6\">\n",
              "    <div class=\"colab-df-container\">\n",
              "      <div>\n",
              "<style scoped>\n",
              "    .dataframe tbody tr th:only-of-type {\n",
              "        vertical-align: middle;\n",
              "    }\n",
              "\n",
              "    .dataframe tbody tr th {\n",
              "        vertical-align: top;\n",
              "    }\n",
              "\n",
              "    .dataframe thead th {\n",
              "        text-align: right;\n",
              "    }\n",
              "</style>\n",
              "<table border=\"1\" class=\"dataframe\">\n",
              "  <thead>\n",
              "    <tr style=\"text-align: right;\">\n",
              "      <th></th>\n",
              "      <th>Customer Name</th>\n",
              "      <th>Review Title</th>\n",
              "      <th>Review Date</th>\n",
              "      <th>Review Rating</th>\n",
              "    </tr>\n",
              "  </thead>\n",
              "  <tbody>\n",
              "    <tr>\n",
              "      <th>0</th>\n",
              "      <td>[Prasanna]</td>\n",
              "      <td>Exceeding my expectation. Go for it.</td>\n",
              "      <td>22 September 2022</td>\n",
              "      <td>5.0 out of 5 stars</td>\n",
              "    </tr>\n",
              "    <tr>\n",
              "      <th>1</th>\n",
              "      <td>[LALITKUMARBHARDWAJAmazon Customer]</td>\n",
              "      <td>I love iPhone</td>\n",
              "      <td>23 September 2022</td>\n",
              "      <td>5.0 out of 5 stars</td>\n",
              "    </tr>\n",
              "    <tr>\n",
              "      <th>2</th>\n",
              "      <td>[amatraveler, [[]]]</td>\n",
              "      <td>Product match the descriptions.</td>\n",
              "      <td>20 September 2022</td>\n",
              "      <td>5.0 out of 5 stars</td>\n",
              "    </tr>\n",
              "    <tr>\n",
              "      <th>3</th>\n",
              "      <td>[Mohd Aadil, [[]]]</td>\n",
              "      <td>Better to have 13 pro than 14</td>\n",
              "      <td>22 September 2022</td>\n",
              "      <td>3.0 out of 5 stars</td>\n",
              "    </tr>\n",
              "    <tr>\n",
              "      <th>4</th>\n",
              "      <td>[rajpal yadav]</td>\n",
              "      <td>Very bad colour and Amazon not change colour o...</td>\n",
              "      <td>21 September 2022</td>\n",
              "      <td>1.0 out of 5 stars</td>\n",
              "    </tr>\n",
              "    <tr>\n",
              "      <th>5</th>\n",
              "      <td>[Anand Kumar Singh]</td>\n",
              "      <td>Definitely it’s worth it</td>\n",
              "      <td>21 September 2022</td>\n",
              "      <td>5.0 out of 5 stars</td>\n",
              "    </tr>\n",
              "    <tr>\n",
              "      <th>6</th>\n",
              "      <td>[Harinder]</td>\n",
              "      <td>Dashing look... Purple 🟣 iPhone pro</td>\n",
              "      <td>16 September 2022</td>\n",
              "      <td>5.0 out of 5 stars</td>\n",
              "    </tr>\n",
              "    <tr>\n",
              "      <th>7</th>\n",
              "      <td>[Sriharsha]</td>\n",
              "      <td>it's worth it.</td>\n",
              "      <td>16 September 2022</td>\n",
              "      <td>5.0 out of 5 stars</td>\n",
              "    </tr>\n",
              "    <tr>\n",
              "      <th>8</th>\n",
              "      <td>[Sridhar B.]</td>\n",
              "      <td>Iphone 14</td>\n",
              "      <td>18 September 2022</td>\n",
              "      <td>3.0 out of 5 stars</td>\n",
              "    </tr>\n",
              "    <tr>\n",
              "      <th>9</th>\n",
              "      <td>[Jay]</td>\n",
              "      <td>I is very good phone but all thing I a 13 mini</td>\n",
              "      <td>17 September 2022</td>\n",
              "      <td>5.0 out of 5 stars</td>\n",
              "    </tr>\n",
              "  </tbody>\n",
              "</table>\n",
              "</div>\n",
              "      <button class=\"colab-df-convert\" onclick=\"convertToInteractive('df-be7fcca9-e683-4e8b-ab6b-69330a93d3b6')\"\n",
              "              title=\"Convert this dataframe to an interactive table.\"\n",
              "              style=\"display:none;\">\n",
              "        \n",
              "  <svg xmlns=\"http://www.w3.org/2000/svg\" height=\"24px\"viewBox=\"0 0 24 24\"\n",
              "       width=\"24px\">\n",
              "    <path d=\"M0 0h24v24H0V0z\" fill=\"none\"/>\n",
              "    <path d=\"M18.56 5.44l.94 2.06.94-2.06 2.06-.94-2.06-.94-.94-2.06-.94 2.06-2.06.94zm-11 1L8.5 8.5l.94-2.06 2.06-.94-2.06-.94L8.5 2.5l-.94 2.06-2.06.94zm10 10l.94 2.06.94-2.06 2.06-.94-2.06-.94-.94-2.06-.94 2.06-2.06.94z\"/><path d=\"M17.41 7.96l-1.37-1.37c-.4-.4-.92-.59-1.43-.59-.52 0-1.04.2-1.43.59L10.3 9.45l-7.72 7.72c-.78.78-.78 2.05 0 2.83L4 21.41c.39.39.9.59 1.41.59.51 0 1.02-.2 1.41-.59l7.78-7.78 2.81-2.81c.8-.78.8-2.07 0-2.86zM5.41 20L4 18.59l7.72-7.72 1.47 1.35L5.41 20z\"/>\n",
              "  </svg>\n",
              "      </button>\n",
              "      \n",
              "  <style>\n",
              "    .colab-df-container {\n",
              "      display:flex;\n",
              "      flex-wrap:wrap;\n",
              "      gap: 12px;\n",
              "    }\n",
              "\n",
              "    .colab-df-convert {\n",
              "      background-color: #E8F0FE;\n",
              "      border: none;\n",
              "      border-radius: 50%;\n",
              "      cursor: pointer;\n",
              "      display: none;\n",
              "      fill: #1967D2;\n",
              "      height: 32px;\n",
              "      padding: 0 0 0 0;\n",
              "      width: 32px;\n",
              "    }\n",
              "\n",
              "    .colab-df-convert:hover {\n",
              "      background-color: #E2EBFA;\n",
              "      box-shadow: 0px 1px 2px rgba(60, 64, 67, 0.3), 0px 1px 3px 1px rgba(60, 64, 67, 0.15);\n",
              "      fill: #174EA6;\n",
              "    }\n",
              "\n",
              "    [theme=dark] .colab-df-convert {\n",
              "      background-color: #3B4455;\n",
              "      fill: #D2E3FC;\n",
              "    }\n",
              "\n",
              "    [theme=dark] .colab-df-convert:hover {\n",
              "      background-color: #434B5C;\n",
              "      box-shadow: 0px 1px 3px 1px rgba(0, 0, 0, 0.15);\n",
              "      filter: drop-shadow(0px 1px 2px rgba(0, 0, 0, 0.3));\n",
              "      fill: #FFFFFF;\n",
              "    }\n",
              "  </style>\n",
              "\n",
              "      <script>\n",
              "        const buttonEl =\n",
              "          document.querySelector('#df-be7fcca9-e683-4e8b-ab6b-69330a93d3b6 button.colab-df-convert');\n",
              "        buttonEl.style.display =\n",
              "          google.colab.kernel.accessAllowed ? 'block' : 'none';\n",
              "\n",
              "        async function convertToInteractive(key) {\n",
              "          const element = document.querySelector('#df-be7fcca9-e683-4e8b-ab6b-69330a93d3b6');\n",
              "          const dataTable =\n",
              "            await google.colab.kernel.invokeFunction('convertToInteractive',\n",
              "                                                     [key], {});\n",
              "          if (!dataTable) return;\n",
              "\n",
              "          const docLinkHtml = 'Like what you see? Visit the ' +\n",
              "            '<a target=\"_blank\" href=https://colab.research.google.com/notebooks/data_table.ipynb>data table notebook</a>'\n",
              "            + ' to learn more about interactive tables.';\n",
              "          element.innerHTML = '';\n",
              "          dataTable['output_type'] = 'display_data';\n",
              "          await google.colab.output.renderOutput(dataTable, element);\n",
              "          const docLink = document.createElement('div');\n",
              "          docLink.innerHTML = docLinkHtml;\n",
              "          element.appendChild(docLink);\n",
              "        }\n",
              "      </script>\n",
              "    </div>\n",
              "  </div>\n",
              "  "
            ]
          },
          "metadata": {},
          "execution_count": 30
        }
      ]
    },
    {
      "cell_type": "code",
      "source": [],
      "metadata": {
        "id": "PSMN984UHwzD"
      },
      "execution_count": null,
      "outputs": []
    }
  ]
}